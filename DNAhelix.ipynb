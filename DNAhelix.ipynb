{
  "nbformat": 4,
  "nbformat_minor": 0,
  "metadata": {
    "colab": {
      "name": "Untitled0.ipynb",
      "provenance": []
    },
    "kernelspec": {
      "name": "python3",
      "display_name": "Python 3"
    }
  },
  "cells": [
    {
      "cell_type": "code",
      "metadata": {
        "id": "wQnZyiur0zcm"
      },
      "source": [
        ""
      ],
      "execution_count": null,
      "outputs": []
    },
    {
      "cell_type": "code",
      "metadata": {
        "id": "YJjeCF4zU4bt",
        "outputId": "234ae51a-a5bd-4f84-80fa-bbc6bb913406",
        "colab": {
          "base_uri": "https://localhost:8080/",
          "height": 884
        }
      },
      "source": [
        "from math import cos, sin, pi\n",
        "\n",
        "length = 50\n",
        "width = 30\n",
        "thickness = 10\n",
        "rotation = 0.15\n",
        "strands = [0, 2 * pi / 3]\n",
        "strand_char = \"#\"\n",
        "\n",
        "radius = width / 2\n",
        "for line in range(length):\n",
        "    output = [\" \"] * (width + thickness + 2)\n",
        "    total_rotation = -line * rotation\n",
        "    sorted_strands = sorted(strands, key=lambda s: cos(total_rotation + s))\n",
        "    for strand_offset in sorted_strands:\n",
        "        pos = int(radius * sin(total_rotation + strand_offset) + radius)\n",
        "        output[pos : pos + thickness + 2] = \" \" + strand_char * thickness + \" \"\n",
        "    print(\"\".join(output))"
      ],
      "execution_count": null,
      "outputs": [
        {
          "output_type": "stream",
          "text": [
            "                ##########  ##########    \n",
            "             ##########      ##########   \n",
            "           ##########         ##########  \n",
            "         ##########           ##########  \n",
            "       ##########             ##########  \n",
            "     ##########               ##########  \n",
            "    ##########               ##########   \n",
            "  ##########                ##########    \n",
            "  ##########               ##########     \n",
            " ##########               ##########      \n",
            " ##########             ##########        \n",
            " ##########           ##########          \n",
            " ##########         ##########            \n",
            "  ##########      ##########              \n",
            "   ##########  ##########                 \n",
            "    ######## ##########                   \n",
            "     ##### ##########                     \n",
            "       # ##########                       \n",
            "       ########## #                       \n",
            "     ########## #####                     \n",
            "    ########## ########                   \n",
            "  ##########    ##########                \n",
            " ##########       ##########              \n",
            " ##########         ##########            \n",
            " ##########           ##########          \n",
            " ##########             ##########        \n",
            " ##########               ##########      \n",
            "  ##########               ##########     \n",
            "   ##########                ##########   \n",
            "    ##########                ##########  \n",
            "     ##########               ##########  \n",
            "       ##########             ##########  \n",
            "         ##########           ##########  \n",
            "           ##########         ##########  \n",
            "             ##########      ##########   \n",
            "                ##########  ##########    \n",
            "                  ######## ##########     \n",
            "                    ##### ##########      \n",
            "                      # ##########        \n",
            "                      ########## #        \n",
            "                    ########## #####      \n",
            "                 ########## #########     \n",
            "               ##########    ##########   \n",
            "             ##########       ##########  \n",
            "           ##########         ##########  \n",
            "         ##########           ##########  \n",
            "       ##########             ##########  \n",
            "     ##########               ##########  \n",
            "    ##########               ##########   \n",
            "  ##########                ##########    \n"
          ],
          "name": "stdout"
        }
      ]
    }
  ]
}